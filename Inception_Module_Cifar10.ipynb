{
  "nbformat": 4,
  "nbformat_minor": 0,
  "metadata": {
    "colab": {
      "provenance": [],
      "gpuType": "T4"
    },
    "kernelspec": {
      "name": "python3",
      "display_name": "Python 3"
    },
    "language_info": {
      "name": "python"
    },
    "accelerator": "GPU"
  },
  "cells": [
    {
      "cell_type": "code",
      "execution_count": 1,
      "metadata": {
        "id": "e0YKw0kTpQyj"
      },
      "outputs": [],
      "source": [
        "import tensorflow as tf\n",
        "from tensorflow.keras import layers, models"
      ]
    },
    {
      "cell_type": "code",
      "source": [
        "# Load and preprocess CIFAR-10 dataset\n",
        "(train_images, train_labels), (test_images, test_labels) = tf.keras.datasets.cifar10.load_data()\n",
        "train_images, test_images = train_images / 255.0, test_images / 255.0\n"
      ],
      "metadata": {
        "colab": {
          "base_uri": "https://localhost:8080/"
        },
        "id": "-Ap9LCvSpRqr",
        "outputId": "d82eb74c-d398-484b-b9eb-b6bdd39198f9"
      },
      "execution_count": 2,
      "outputs": [
        {
          "output_type": "stream",
          "name": "stdout",
          "text": [
            "Downloading data from https://www.cs.toronto.edu/~kriz/cifar-10-python.tar.gz\n",
            "170498071/170498071 [==============================] - 2s 0us/step\n"
          ]
        }
      ]
    },
    {
      "cell_type": "code",
      "source": [
        "# Define Inception module as a separate model\n",
        "def InceptionModule(x, filters):\n",
        "    branch1x1 = layers.Conv2D(filters[0], (1, 1), padding='same', activation='relu')(x)\n",
        "\n",
        "    branch3x3 = layers.Conv2D(filters[1], (1, 1), padding='same', activation='relu')(x)\n",
        "    branch3x3 = layers.Conv2D(filters[2], (3, 3), padding='same', activation='relu')(branch3x3)\n",
        "\n",
        "    branch5x5 = layers.Conv2D(filters[3], (1, 1), padding='same', activation='relu')(x)\n",
        "    branch5x5 = layers.Conv2D(filters[4], (5, 5), padding='same', activation='relu')(branch5x5)\n",
        "\n",
        "    branch_pool = layers.MaxPooling2D((3, 3), strides=(1, 1), padding='same')(x)\n",
        "    branch_pool = layers.Conv2D(filters[5], (1, 1), padding='same', activation='relu')(branch_pool)\n",
        "\n",
        "    return layers.concatenate([branch1x1, branch3x3, branch5x5, branch_pool], axis=-1)\n"
      ],
      "metadata": {
        "id": "vr6Z55e9pRtP"
      },
      "execution_count": 3,
      "outputs": []
    },
    {
      "cell_type": "code",
      "source": [
        "# Build the model using the functional API\n",
        "input_layer = layers.Input(shape=(32, 32, 3))\n",
        "x = layers.Conv2D(64, (3, 3), activation='relu')(input_layer)\n",
        "x = InceptionModule(x, [64, 128, 128, 32, 32, 32])\n",
        "x = layers.GlobalAveragePooling2D()(x)\n",
        "output_layer = layers.Dense(10, activation='softmax')(x)\n",
        "\n",
        "model = models.Model(inputs=input_layer, outputs=output_layer)\n",
        "\n",
        "# Compile the model\n",
        "model.compile(optimizer='adam',\n",
        "              loss='sparse_categorical_crossentropy',\n",
        "              metrics=['accuracy'])\n"
      ],
      "metadata": {
        "id": "1QANzTNgpRyg"
      },
      "execution_count": 4,
      "outputs": []
    },
    {
      "cell_type": "code",
      "source": [
        "# Train the model\n",
        "model.fit(train_images, train_labels, epochs=20, validation_data=(test_images, test_labels))"
      ],
      "metadata": {
        "colab": {
          "base_uri": "https://localhost:8080/"
        },
        "id": "ws87xwmIpR1i",
        "outputId": "33a4ce30-bdaf-4e22-c475-07f7ff8f23e1"
      },
      "execution_count": 5,
      "outputs": [
        {
          "output_type": "stream",
          "name": "stdout",
          "text": [
            "Epoch 1/20\n",
            "1563/1563 [==============================] - 30s 15ms/step - loss: 1.8125 - accuracy: 0.3138 - val_loss: 1.6539 - val_accuracy: 0.3919\n",
            "Epoch 2/20\n",
            "1563/1563 [==============================] - 22s 14ms/step - loss: 1.5876 - accuracy: 0.4213 - val_loss: 1.5385 - val_accuracy: 0.4322\n",
            "Epoch 3/20\n",
            "1563/1563 [==============================] - 23s 15ms/step - loss: 1.4634 - accuracy: 0.4752 - val_loss: 1.4663 - val_accuracy: 0.4820\n",
            "Epoch 4/20\n",
            "1563/1563 [==============================] - 23s 15ms/step - loss: 1.3860 - accuracy: 0.5050 - val_loss: 1.4498 - val_accuracy: 0.4802\n",
            "Epoch 5/20\n",
            "1563/1563 [==============================] - 22s 14ms/step - loss: 1.3341 - accuracy: 0.5287 - val_loss: 1.3376 - val_accuracy: 0.5238\n",
            "Epoch 6/20\n",
            "1563/1563 [==============================] - 22s 14ms/step - loss: 1.2884 - accuracy: 0.5452 - val_loss: 1.2630 - val_accuracy: 0.5520\n",
            "Epoch 7/20\n",
            "1563/1563 [==============================] - 23s 14ms/step - loss: 1.2470 - accuracy: 0.5613 - val_loss: 1.2810 - val_accuracy: 0.5469\n",
            "Epoch 8/20\n",
            "1563/1563 [==============================] - 23s 14ms/step - loss: 1.2185 - accuracy: 0.5716 - val_loss: 1.2202 - val_accuracy: 0.5791\n",
            "Epoch 9/20\n",
            "1563/1563 [==============================] - 22s 14ms/step - loss: 1.1932 - accuracy: 0.5804 - val_loss: 1.2124 - val_accuracy: 0.5684\n",
            "Epoch 10/20\n",
            "1563/1563 [==============================] - 22s 14ms/step - loss: 1.1661 - accuracy: 0.5899 - val_loss: 1.1554 - val_accuracy: 0.5992\n",
            "Epoch 11/20\n",
            "1563/1563 [==============================] - 21s 14ms/step - loss: 1.1427 - accuracy: 0.5992 - val_loss: 1.1256 - val_accuracy: 0.6067\n",
            "Epoch 12/20\n",
            "1563/1563 [==============================] - 22s 14ms/step - loss: 1.1210 - accuracy: 0.6058 - val_loss: 1.1211 - val_accuracy: 0.6008\n",
            "Epoch 13/20\n",
            "1563/1563 [==============================] - 21s 14ms/step - loss: 1.1004 - accuracy: 0.6142 - val_loss: 1.0987 - val_accuracy: 0.6205\n",
            "Epoch 14/20\n",
            "1563/1563 [==============================] - 23s 14ms/step - loss: 1.0732 - accuracy: 0.6248 - val_loss: 1.1054 - val_accuracy: 0.6119\n",
            "Epoch 15/20\n",
            "1563/1563 [==============================] - 23s 14ms/step - loss: 1.0562 - accuracy: 0.6308 - val_loss: 1.0513 - val_accuracy: 0.6322\n",
            "Epoch 16/20\n",
            "1563/1563 [==============================] - 22s 14ms/step - loss: 1.0403 - accuracy: 0.6359 - val_loss: 1.0523 - val_accuracy: 0.6347\n",
            "Epoch 17/20\n",
            "1563/1563 [==============================] - 22s 14ms/step - loss: 1.0198 - accuracy: 0.6441 - val_loss: 1.0318 - val_accuracy: 0.6411\n",
            "Epoch 18/20\n",
            "1563/1563 [==============================] - 23s 14ms/step - loss: 1.0025 - accuracy: 0.6519 - val_loss: 1.0399 - val_accuracy: 0.6390\n",
            "Epoch 19/20\n",
            "1563/1563 [==============================] - 22s 14ms/step - loss: 0.9867 - accuracy: 0.6553 - val_loss: 1.0313 - val_accuracy: 0.6334\n",
            "Epoch 20/20\n",
            "1563/1563 [==============================] - 22s 14ms/step - loss: 0.9707 - accuracy: 0.6620 - val_loss: 0.9912 - val_accuracy: 0.6543\n"
          ]
        },
        {
          "output_type": "execute_result",
          "data": {
            "text/plain": [
              "<keras.src.callbacks.History at 0x7dd657714f70>"
            ]
          },
          "metadata": {},
          "execution_count": 5
        }
      ]
    },
    {
      "cell_type": "code",
      "source": [
        "# Evaluate the model\n",
        "test_loss, test_accuracy = model.evaluate(test_images, test_labels)\n",
        "print(f'Test Accuracy: {test_accuracy * 100:.2f}%')"
      ],
      "metadata": {
        "colab": {
          "base_uri": "https://localhost:8080/"
        },
        "id": "-6W38pVDpR4Z",
        "outputId": "973e16a0-661b-423d-ed0e-fb4301982f31"
      },
      "execution_count": 6,
      "outputs": [
        {
          "output_type": "stream",
          "name": "stdout",
          "text": [
            "313/313 [==============================] - 2s 5ms/step - loss: 0.9912 - accuracy: 0.6543\n",
            "Test Accuracy: 65.43%\n"
          ]
        }
      ]
    },
    {
      "cell_type": "code",
      "source": [],
      "metadata": {
        "id": "LUpDvMHUpR7n"
      },
      "execution_count": 6,
      "outputs": []
    }
  ]
}