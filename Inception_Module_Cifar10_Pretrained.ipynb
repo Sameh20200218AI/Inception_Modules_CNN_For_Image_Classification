{
  "cells": [
    {
      "cell_type": "code",
      "execution_count": 1,
      "metadata": {
        "id": "7WuxDMGYf_Ti"
      },
      "outputs": [],
      "source": [
        "import tensorflow as tf\n",
        "from tensorflow.keras import layers, models\n",
        "from tensorflow.keras.datasets import cifar10\n",
        "from tensorflow.keras.utils import to_categorical\n",
        "from tensorflow.keras.applications import InceptionV3\n",
        "from tensorflow.keras.applications.inception_v3 import preprocess_input"
      ]
    },
    {
      "cell_type": "code",
      "execution_count": 2,
      "metadata": {
        "colab": {
          "base_uri": "https://localhost:8080/"
        },
        "id": "4kr52sPrf_WT",
        "outputId": "88f1034e-695c-48c6-e897-b7f9b5c15509"
      },
      "outputs": [
        {
          "name": "stdout",
          "output_type": "stream",
          "text": [
            "Downloading data from https://www.cs.toronto.edu/~kriz/cifar-10-python.tar.gz\n",
            "170498071/170498071 [==============================] - 4s 0us/step\n"
          ]
        }
      ],
      "source": [
        "# Load and preprocess the CIFAR-10 dataset\n",
        "(train_images, train_labels), (test_images, test_labels) = cifar10.load_data()\n",
        "train_images = train_images.astype('float32') / 255\n",
        "test_images = test_images.astype('float32') / 255\n",
        "\n",
        "train_labels = to_categorical(train_labels)\n",
        "test_labels = to_categorical(test_labels)"
      ]
    },
    {
      "cell_type": "code",
      "execution_count": 3,
      "metadata": {
        "id": "qRu34Po3f_ZM"
      },
      "outputs": [],
      "source": [
        "# Create a tf.data.Dataset for training and testing\n",
        "train_dataset = tf.data.Dataset.from_tensor_slices((train_images, train_labels))\n",
        "test_dataset = tf.data.Dataset.from_tensor_slices((test_images, test_labels))"
      ]
    },
    {
      "cell_type": "code",
      "execution_count": 4,
      "metadata": {
        "id": "HuzPnPIqf_b3"
      },
      "outputs": [],
      "source": [
        "# Define preprocessing function\n",
        "def preprocess_image(image, label):\n",
        "    image = tf.image.resize(image, (224, 224))\n",
        "    image = preprocess_input(image)\n",
        "    return image, label"
      ]
    },
    {
      "cell_type": "code",
      "execution_count": 5,
      "metadata": {
        "id": "lrskjnt0f_ef"
      },
      "outputs": [],
      "source": [
        "# Apply preprocessing function to the datasets\n",
        "train_dataset = train_dataset.map(preprocess_image)\n",
        "test_dataset = test_dataset.map(preprocess_image)"
      ]
    },
    {
      "cell_type": "code",
      "execution_count": 6,
      "metadata": {
        "id": "GUCTs4wKf_hJ"
      },
      "outputs": [],
      "source": [
        "# Batch and prefetch the datasets\n",
        "batch_size = 32\n",
        "train_dataset = train_dataset.batch(batch_size).prefetch(tf.data.experimental.AUTOTUNE)\n",
        "test_dataset = test_dataset.batch(batch_size).prefetch(tf.data.experimental.AUTOTUNE)"
      ]
    },
    {
      "cell_type": "code",
      "execution_count": 7,
      "metadata": {
        "colab": {
          "base_uri": "https://localhost:8080/"
        },
        "id": "yGhqSxtVf_jw",
        "outputId": "d076948b-6c22-4d8d-8aac-dd2e07c35aa0"
      },
      "outputs": [
        {
          "name": "stdout",
          "output_type": "stream",
          "text": [
            "Downloading data from https://storage.googleapis.com/tensorflow/keras-applications/inception_v3/inception_v3_weights_tf_dim_ordering_tf_kernels_notop.h5\n",
            "87910968/87910968 [==============================] - 1s 0us/step\n"
          ]
        }
      ],
      "source": [
        "# Load pre-trained InceptionV3 model without top (fully connected layers)\n",
        "base_model = InceptionV3(weights='imagenet', include_top=False, input_shape=(224, 224, 3))"
      ]
    },
    {
      "cell_type": "code",
      "execution_count": 8,
      "metadata": {
        "id": "RBB7fZY_f_mP"
      },
      "outputs": [],
      "source": [
        "# Freeze the layers of the pre-trained model\n",
        "for layer in base_model.layers:\n",
        "    layer.trainable = False"
      ]
    },
    {
      "cell_type": "code",
      "execution_count": 9,
      "metadata": {
        "id": "JI3Scpizf_ox"
      },
      "outputs": [],
      "source": [
        "# Build your model on top of the pre-trained model\n",
        "model = models.Sequential()\n",
        "model.add(base_model)\n",
        "model.add(layers.GlobalAveragePooling2D())\n",
        "model.add(layers.Dense(10, activation='softmax'))\n",
        "\n",
        "# Compile the model\n",
        "model.compile(optimizer='adam', loss='categorical_crossentropy', metrics=['accuracy'])"
      ]
    },
    {
      "cell_type": "code",
      "execution_count": 10,
      "metadata": {
        "colab": {
          "base_uri": "https://localhost:8080/"
        },
        "id": "MVqExz9yf_r_",
        "outputId": "11c17d76-118d-441c-c612-0020cb23234e"
      },
      "outputs": [
        {
          "name": "stdout",
          "output_type": "stream",
          "text": [
            "Epoch 1/3\n",
            "1563/1563 [==============================] - 237s 145ms/step - loss: 2.2028 - accuracy: 0.1891 - val_loss: 2.1085 - val_accuracy: 0.2543\n",
            "Epoch 2/3\n",
            "1563/1563 [==============================] - 228s 146ms/step - loss: 2.0518 - accuracy: 0.2720 - val_loss: 2.0010 - val_accuracy: 0.3069\n",
            "Epoch 3/3\n",
            "1563/1563 [==============================] - 229s 147ms/step - loss: 1.9644 - accuracy: 0.3109 - val_loss: 1.9302 - val_accuracy: 0.3360\n"
          ]
        },
        {
          "data": {
            "text/plain": [
              "<keras.src.callbacks.History at 0x798bcbb63e20>"
            ]
          },
          "execution_count": 10,
          "metadata": {},
          "output_type": "execute_result"
        }
      ],
      "source": [
        "# Train the model using the tf.data.Dataset\n",
        "model.fit(train_dataset, epochs=3, validation_data=test_dataset)"
      ]
    },
    {
      "cell_type": "code",
      "execution_count": 11,
      "metadata": {
        "colab": {
          "base_uri": "https://localhost:8080/"
        },
        "id": "jcNDmR4Mf_tn",
        "outputId": "3368de8e-ae89-463e-9b18-f555083aa03c"
      },
      "outputs": [
        {
          "name": "stdout",
          "output_type": "stream",
          "text": [
            "313/313 [==============================] - 38s 121ms/step - loss: 1.9302 - accuracy: 0.3360\n",
            "Test Loss: 1.9302\n",
            "Test Accuracy: 33.60%\n"
          ]
        }
      ],
      "source": [
        "# Evaluate the model on the test set\n",
        "evaluation_results = model.evaluate(test_dataset)\n",
        "\n",
        "# Extract loss and accuracy from evaluation results\n",
        "loss, accuracy = evaluation_results\n",
        "\n",
        "# Print the evaluation results\n",
        "print(f\"Test Loss: {loss:.4f}\")\n",
        "print(f\"Test Accuracy: {accuracy * 100:.2f}%\")"
      ]
    }
  ],
  "metadata": {
    "accelerator": "GPU",
    "colab": {
      "gpuType": "T4",
      "provenance": []
    },
    "kernelspec": {
      "display_name": "Python 3",
      "name": "python3"
    },
    "language_info": {
      "name": "python"
    }
  },
  "nbformat": 4,
  "nbformat_minor": 0
}
